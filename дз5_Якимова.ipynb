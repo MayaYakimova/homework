{
  "nbformat": 4,
  "nbformat_minor": 0,
  "metadata": {
    "colab": {
      "provenance": [],
      "authorship_tag": "ABX9TyMAAQlXjMgbtf3qnTed3c9k",
      "include_colab_link": true
    },
    "kernelspec": {
      "name": "python3",
      "display_name": "Python 3"
    },
    "language_info": {
      "name": "python"
    }
  },
  "cells": [
    {
      "cell_type": "markdown",
      "metadata": {
        "id": "view-in-github",
        "colab_type": "text"
      },
      "source": [
        "<a href=\"https://colab.research.google.com/github/MayaYakimova/homework/blob/main/%D0%B4%D0%B75_%D0%AF%D0%BA%D0%B8%D0%BC%D0%BE%D0%B2%D0%B0.ipynb\" target=\"_parent\"><img src=\"https://colab.research.google.com/assets/colab-badge.svg\" alt=\"Open In Colab\"/></a>"
      ]
    },
    {
      "cell_type": "markdown",
      "source": [],
      "metadata": {
        "id": "O2vfagLwzfl1"
      }
    },
    {
      "cell_type": "markdown",
      "source": [
        "Задача 1.\n",
        "\n",
        "Текст состоит из строк (lines). Удалите одним регулярным выражением все пробелы в началах всех строк, и все пробелы в концах всех строк.\n",
        "\n",
        "In [ ]:\n"
      ],
      "metadata": {
        "id": "ht_L2wsGzijA"
      }
    },
    {
      "cell_type": "code",
      "source": [
        "import re\n",
        "text = '''           зеленая лампа светит ярко, когда на улице ночь   '''\n",
        "pattern = re.compile(r'^\\s+|\\s+$')\n",
        "print(re.sub(pattern, '', text))"
      ],
      "metadata": {
        "colab": {
          "base_uri": "https://localhost:8080/"
        },
        "id": "Qr3E2UHNzjjY",
        "outputId": "27c3da4a-a745-4bf5-b976-465b1836a978"
      },
      "execution_count": 3,
      "outputs": [
        {
          "output_type": "stream",
          "name": "stdout",
          "text": [
            "зеленая лампа светит ярко, когда на улице ночь\n"
          ]
        }
      ]
    },
    {
      "cell_type": "markdown",
      "source": [
        "Задача 2.\n",
        "\n",
        "То же, но теперь не только обычные пробелы, а все пробельные символы. При этом, дополнительно нужно удалить все пустые строки (пустые вообще, а так же состоящие только из пробельных символов). Попробуйте сделать это за одну операцию замены."
      ],
      "metadata": {
        "id": "edhz199Pznj3"
      }
    },
    {
      "cell_type": "code",
      "source": [
        "import re\n",
        "text = '''    Вообще что же тут  \n",
        "\n",
        "в этом задании\n",
        "\n",
        "\n",
        "\n",
        "писать\n",
        "\n",
        "не знаю \n",
        "    '''\n",
        "pattern = re.compile(r'\\s+|\\n\\s*\\n')\n",
        "print(re.sub(pattern, '', text))"
      ],
      "metadata": {
        "colab": {
          "base_uri": "https://localhost:8080/"
        },
        "id": "MpSI_ZkDzq6_",
        "outputId": "997d0aee-57dd-4ed5-f985-29e47358317e"
      },
      "execution_count": 5,
      "outputs": [
        {
          "output_type": "stream",
          "name": "stdout",
          "text": [
            "Вообщечтожетутвэтомзаданииписатьнезнаю\n"
          ]
        }
      ]
    },
    {
      "cell_type": "markdown",
      "source": [
        "Задача 3.\n",
        "\n",
        "Сделайте то же самое без регулярных выражений в одну строчку, используя bilt-in функцию filter."
      ],
      "metadata": {
        "id": "xAnymBQgzuUN"
      }
    },
    {
      "cell_type": "code",
      "source": [],
      "metadata": {
        "id": "AOPtTEqkzu96"
      },
      "execution_count": null,
      "outputs": []
    },
    {
      "cell_type": "markdown",
      "source": [
        "Задача 4.\n",
        "\n",
        "В тексте встречаются нецелые числа (причем могут быть через запятую или через точку). Нужно все числа в тексте округлить до двух знаков после запятой(точки), причем не просто отрезать хвост: 2.467 должно превращаться в 2.47.\n",
        "\n",
        "In [ ]:\n"
      ],
      "metadata": {
        "id": "mbseKlH4zwOX"
      }
    },
    {
      "cell_type": "code",
      "source": [
        "import re\n",
        "\n",
        "text = \"ла ла ла лалалла лалалал лалала 2.467 лалала ла ала .\"\n",
        "pattern = r\"\\d+\\.\\d+\"\n",
        "\n",
        "def round_number(match):\n",
        "    return str(round(float(match.group()), 2))\n",
        "\n",
        "rounded_text = re.sub(pattern, round_number, text)\n",
        "print(rounded_text)"
      ],
      "metadata": {
        "colab": {
          "base_uri": "https://localhost:8080/"
        },
        "id": "MVIo-SrrzzE8",
        "outputId": "1ee31a4d-6029-4286-a83d-b7c67aa8b7ca"
      },
      "execution_count": 14,
      "outputs": [
        {
          "output_type": "stream",
          "name": "stdout",
          "text": [
            "ла ла ла лалалла лалалал лалала 2.47 лалала ла ала .\n"
          ]
        }
      ]
    },
    {
      "cell_type": "markdown",
      "source": [
        "Задача 5.\n",
        "\n",
        "Напишите самый простой токенизатор: он должен захватывать стандартные знаки препинания, русские и английские слова (символы с диакритиками не берем в расчет), причем таким образом, чтобы каждому токену еще приписывалась его категория: пунктуация, кириллическое или английское слово. Подсказка: здесь очень удобно использовать группы."
      ],
      "metadata": {
        "id": "bFwvKvewz0AT"
      }
    },
    {
      "cell_type": "code",
      "source": [
        "text = '''кока кола. coca cola..'''\n",
        "import re\n",
        "\n",
        "def tokenize(text):\n",
        "    tokens = []\n",
        "    pattern = re.compile(r'([^\\w\\s]+|\\w+)')\n",
        "    for match in pattern.finditer(text):\n",
        "        token = match.group().strip()\n",
        "        if not token:\n",
        "            continue\n",
        "        if re.match(r'^\\W+$', token):\n",
        "            category = 'punctuation'\n",
        "        elif re.match(r'^[a-zA-Z]+$', token):\n",
        "            category = 'english word'\n",
        "        elif re.match(r'^[а-яА-ЯёЁ]+$', token):\n",
        "            category = 'russian word'\n",
        "        else:\n",
        "            category = 'other'\n",
        "        tokens.append((token, category))\n",
        "    return tokens\n",
        "\n",
        "tokens = tokenize(text)\n",
        "print(tokens)"
      ],
      "metadata": {
        "colab": {
          "base_uri": "https://localhost:8080/"
        },
        "id": "PHHx7V-8z249",
        "outputId": "ea366de9-9fca-490e-feff-9956d8146345"
      },
      "execution_count": 17,
      "outputs": [
        {
          "output_type": "stream",
          "name": "stdout",
          "text": [
            "[('кока', 'russian word'), ('кола', 'russian word'), ('.', 'punctuation'), ('coca', 'english word'), ('cola', 'english word'), ('..', 'punctuation')]\n"
          ]
        }
      ]
    }
  ]
}