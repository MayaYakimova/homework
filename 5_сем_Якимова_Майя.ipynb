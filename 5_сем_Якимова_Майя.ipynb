{
  "cells": [
    {
      "cell_type": "markdown",
      "metadata": {
        "id": "view-in-github",
        "colab_type": "text"
      },
      "source": [
        "<a href=\"https://colab.research.google.com/github/MayaYakimova/homework/blob/main/5_%D1%81%D0%B5%D0%BC_%D0%AF%D0%BA%D0%B8%D0%BC%D0%BE%D0%B2%D0%B0_%D0%9C%D0%B0%D0%B9%D1%8F.ipynb\" target=\"_parent\"><img src=\"https://colab.research.google.com/assets/colab-badge.svg\" alt=\"Open In Colab\"/></a>"
      ]
    },
    {
      "cell_type": "markdown",
      "id": "70e703bf-7b60-4f03-a3fc-30ccdca70de7",
      "metadata": {
        "id": "70e703bf-7b60-4f03-a3fc-30ccdca70de7"
      },
      "source": [
        "#### Задача 1.\n",
        "\n",
        "Найдите в тексте все телефонные номера. Номера могут быть в формате 0(000)00-00-00 или 0 000 00 00 00."
      ]
    },
    {
      "cell_type": "code",
      "execution_count": null,
      "id": "d92bc512-32ea-46a3-ae99-7be77c8fa8c6",
      "metadata": {
        "id": "d92bc512-32ea-46a3-ae99-7be77c8fa8c6",
        "colab": {
          "base_uri": "https://localhost:8080/"
        },
        "outputId": "a69264e7-8ecd-4a47-ac88-f530b55d95ac"
      },
      "outputs": [
        {
          "output_type": "execute_result",
          "data": {
            "text/plain": [
              "['0(000)00-00-00', '0 000 00 00 00']"
            ]
          },
          "metadata": {},
          "execution_count": 2
        }
      ],
      "source": [
        "import re\n",
        "text = '''Найдите в тексте все телефонные номера. Номера могут быть в формате 0(000)00-00-00 или 0 000 00 00 00.'''\n",
        "re.findall(r'\\d \\d{3} \\d{2} \\d{2} \\d{2}|\\d\\(\\d{3}\\)\\d{2}-\\d{2}-\\d{2}', text)"
      ]
    },
    {
      "cell_type": "markdown",
      "id": "5ad1d89c-b0ce-45e5-a641-457b962c06f8",
      "metadata": {
        "id": "5ad1d89c-b0ce-45e5-a641-457b962c06f8"
      },
      "source": [
        "#### Задача 2.\n",
        "\n",
        "Программа ждет, что пользователь введет адрес электронной почты. Предполагается, что адрес может содержать только латинские буквы, цифры и нижнее подчеркивание, обязательно содержит @ и имя домена через точку. Других точек в адресе нет. Программа должна проверять, что пользователь ввел именно такой адрес, и предупреждать, если что-то неладно. Используйте fullmatch."
      ]
    },
    {
      "cell_type": "code",
      "execution_count": 5,
      "id": "4986fdc5-d814-41ee-a85e-c245067d1f65",
      "metadata": {
        "id": "4986fdc5-d814-41ee-a85e-c245067d1f65",
        "colab": {
          "base_uri": "https://localhost:8080/"
        },
        "outputId": "3eae77a6-004c-4b5f-e400-5fcf4bfcbefc"
      },
      "outputs": [
        {
          "output_type": "stream",
          "name": "stdout",
          "text": [
            "<re.Match object; span=(0, 29), match='yuliyavasnetsova_1234@mail.ru'>\n"
          ]
        }
      ],
      "source": [
        "text = 'yuliyavasnetsova_1234@mail.ru azgsx_ nshatgh@'\n",
        "pattern = re.compile(r'[A-Za-z\\d_]+@[a-z]+\\.[a-z]{2,3}')\n",
        "print(re.search(pattern, text))"
      ]
    },
    {
      "cell_type": "markdown",
      "id": "01a64604-a79a-46c7-91ae-b3641567b1ca",
      "metadata": {
        "id": "01a64604-a79a-46c7-91ae-b3641567b1ca"
      },
      "source": [
        "#### Задача 3.\n",
        "\n",
        "Цензура: в тексте встречается слово *война* и разные его вариации в падежах (и регистр тоже везде разный). Замените это слово по всему тексту на многоточие."
      ]
    },
    {
      "cell_type": "code",
      "execution_count": 7,
      "id": "7f0adfed-8241-479b-b9d8-9d31733fd7a3",
      "metadata": {
        "id": "7f0adfed-8241-479b-b9d8-9d31733fd7a3",
        "colab": {
          "base_uri": "https://localhost:8080/",
          "height": 36
        },
        "outputId": "70f671d7-e095-422f-f13a-812bb9aa78c9"
      },
      "outputs": [
        {
          "output_type": "execute_result",
          "data": {
            "text/plain": [
              "'Война разрушает жизни, потому что из-за ... умирают люди'"
            ],
            "application/vnd.google.colaboratory.intrinsic+json": {
              "type": "string"
            }
          },
          "metadata": {},
          "execution_count": 7
        }
      ],
      "source": [
        "text = '''Война разрушает жизни, потому что из-за войны умирают люди'''\n",
        "import re\n",
        "pattern = re.compile(r'\\bвойн[|\\w+]\\b')\n",
        "re.sub(pattern, '...', text)"
      ]
    },
    {
      "cell_type": "markdown",
      "id": "bbf83ee7-838e-4e59-b670-45a4c20b4e9a",
      "metadata": {
        "id": "bbf83ee7-838e-4e59-b670-45a4c20b4e9a"
      },
      "source": [
        "#### Задача 4.\n",
        "\n",
        "У нас есть (любой) текст, в котором встречаются целые числа. Числа могут быть отрицательными, тогда между минусом и числом нет никакого другого знака. Напишите программу, которая все числа увеличит на единицу (причем 34 должно превратиться в 35, а -34 - в -33). Нельзя пользоваться циклами!"
      ]
    },
    {
      "cell_type": "code",
      "execution_count": 9,
      "id": "a2a83f8c-981f-4758-a380-f53e701c03f9",
      "metadata": {
        "id": "a2a83f8c-981f-4758-a380-f53e701c03f9",
        "colab": {
          "base_uri": "https://localhost:8080/",
          "height": 36
        },
        "outputId": "924b4a24-14c2-48ef-e97c-2acfa128a43a"
      },
      "outputs": [
        {
          "output_type": "execute_result",
          "data": {
            "text/plain": [
              "'погода холодная, на улице -35 а завтра будет 15 градусов, отя еще недавно было -22'"
            ],
            "application/vnd.google.colaboratory.intrinsic+json": {
              "type": "string"
            }
          },
          "metadata": {},
          "execution_count": 9
        }
      ],
      "source": [
        "import re\n",
        "text = '''погода холодная, на улице -36 а завтра будет 16 градусов, отя еще недавно было -23'''\n",
        "re.sub(r'\\b-?\\d+\\b', lambda m: str(int(m.group())-1), text)"
      ]
    },
    {
      "cell_type": "markdown",
      "id": "e0e1cdb9-a9da-437b-8b6f-daf185acb941",
      "metadata": {
        "tags": [],
        "id": "e0e1cdb9-a9da-437b-8b6f-daf185acb941"
      },
      "source": [
        "#### Задача 5. \n",
        "\n",
        "Найти ценники в формате \"10000 руб. 00 коп.\", при этом:\n",
        "- \"руб.\" и \"коп.\" не обязательно сокращены;\n",
        "- кол-во копеек не может быть трёхзначным;\n",
        "- кол-во рублей может быть нулевым, но не может быть некорректно записанным числом типа \"0123 рубля\")"
      ]
    },
    {
      "cell_type": "code",
      "execution_count": 8,
      "id": "9afcf7ac-d19a-49f4-b2d9-8012968ca7ea",
      "metadata": {
        "id": "9afcf7ac-d19a-49f4-b2d9-8012968ca7ea",
        "colab": {
          "base_uri": "https://localhost:8080/"
        },
        "outputId": "b98ea7e9-9397-42ee-a1d6-e44812357db9"
      },
      "outputs": [
        {
          "output_type": "execute_result",
          "data": {
            "text/plain": [
              "['1200 рублей 40 копеек']"
            ]
          },
          "metadata": {},
          "execution_count": 8
        }
      ],
      "source": [
        "import re\n",
        "text = '''за килограмм картошки надо заплатить 1200 рублей 40 копеек'''\n",
        "re.findall(r'\\b(?:[1-9]\\d*|0) руб[.л]?[еяь]?й? \\d{2} коп[.е]?[ей]?к?[аи]?\\b', text)"
      ]
    },
    {
      "cell_type": "markdown",
      "id": "ad30c489-cc19-4829-b682-e869ed2e2a9d",
      "metadata": {
        "id": "ad30c489-cc19-4829-b682-e869ed2e2a9d"
      },
      "source": [
        "#### Задача 6.\n",
        "\n",
        "Некоторые любят выделять особо важные места в тексте с помощью нижнего подчёркивания, например: \"...здесь \\_очень важно\\_ отметить...\" (дело в том, что нижние подчеркивания в некоторых редакторах автоматически превращаются в курсив).\n",
        "\n",
        "Ищем такие выделения, но не длиннее 5 слов."
      ]
    },
    {
      "cell_type": "code",
      "execution_count": 10,
      "id": "bcc607bd-bff6-4087-b35e-82b5b1450afd",
      "metadata": {
        "id": "bcc607bd-bff6-4087-b35e-82b5b1450afd",
        "colab": {
          "base_uri": "https://localhost:8080/"
        },
        "outputId": "47e11586-dee2-4a4b-cf1b-e6cba06a9996"
      },
      "outputs": [
        {
          "output_type": "execute_result",
          "data": {
            "text/plain": [
              "['очень важно']"
            ]
          },
          "metadata": {},
          "execution_count": 10
        }
      ],
      "source": [
        "import re\n",
        "text = '''Некоторые любят выделять особо важные места в тексте с помощью нижнего подчёркивания, например: \"...здесь _очень важно_ отметить...\" (дело в том, что нижние подчеркивания в некоторых редакторах автоматически превращаются в курсив).\n",
        "Ищем такие выделения, но не длиннее 5 слов.'''\n",
        "re.findall(r'(?<=_)(?:\\w* ?(?:\\w*? ?){,4})(?=_)', text)"
      ]
    },
    {
      "cell_type": "markdown",
      "id": "d088f8de-439b-4f57-85f9-c362e187c02b",
      "metadata": {
        "id": "d088f8de-439b-4f57-85f9-c362e187c02b"
      },
      "source": [
        "#### Задача 7.\n",
        "\n",
        "Найти в тексте все куски, которые взяты в круглые скобки. Считаем, что вложенных скобок нет."
      ]
    },
    {
      "cell_type": "code",
      "execution_count": 13,
      "id": "28d4fd0a-d983-4f4f-ab9e-08bced740295",
      "metadata": {
        "id": "28d4fd0a-d983-4f4f-ab9e-08bced740295",
        "colab": {
          "base_uri": "https://localhost:8080/"
        },
        "outputId": "e32d74a1-c272-40c7-87e2-7e4a39b21bd9"
      },
      "outputs": [
        {
          "output_type": "stream",
          "name": "stdout",
          "text": [
            "['я', 'вместе с другом колей', 'кстати']\n"
          ]
        }
      ],
      "source": [
        "import re\n",
        "text = '''(я) поехала к бабушке в гости, (вместе с другом колей), которого я (кстати) не очень хорошо знаю'''\n",
        "pattern = re.compile(r'(?<=\\().+?(?=\\))')\n",
        "print(re.findall(pattern, text))"
      ]
    },
    {
      "cell_type": "markdown",
      "id": "e259cd15-fff8-4ff3-bd25-aeca43d5b640",
      "metadata": {
        "id": "e259cd15-fff8-4ff3-bd25-aeca43d5b640"
      },
      "source": [
        "#### Задача 8. \n",
        "\n",
        "В текстовом файле находятся пути к другим файлам. Каждый путь устроен таким образом, что у него обязательно есть расширение через точку, название собственно файла и как минимум папка, в которой он находится, например:\n",
        "\n",
        "    myfolder/myfile.txt\n",
        "    C:\\Python\\files\\script.py\n",
        "    ...\n",
        "    \n",
        "Обратите внимание, что слеш может быть в любую сторону (в Windows он обратный, в Unix-системах прямой). Напишите такое регулярное выражение, которое будет в поиске re.findall возвращать кортежи вида ('все, что слева от имени файла', 'имя файла', 'расширение'). Для примеров:\n",
        "\n",
        "    ('myfolder', 'myfile', 'txt')\n",
        "    ('C:\\Python\\files', 'script', 'py')\n",
        "    "
      ]
    },
    {
      "cell_type": "code",
      "execution_count": 14,
      "id": "95382188-31a0-4cb5-993c-0857e5e1f9ef",
      "metadata": {
        "id": "95382188-31a0-4cb5-993c-0857e5e1f9ef"
      },
      "outputs": [],
      "source": []
    }
  ],
  "metadata": {
    "kernelspec": {
      "display_name": "Python 3 (ipykernel)",
      "language": "python",
      "name": "python3"
    },
    "language_info": {
      "codemirror_mode": {
        "name": "ipython",
        "version": 3
      },
      "file_extension": ".py",
      "mimetype": "text/x-python",
      "name": "python",
      "nbconvert_exporter": "python",
      "pygments_lexer": "ipython3",
      "version": "3.9.12"
    },
    "colab": {
      "provenance": [],
      "include_colab_link": true
    }
  },
  "nbformat": 4,
  "nbformat_minor": 5
}