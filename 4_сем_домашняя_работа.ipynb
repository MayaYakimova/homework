{
  "nbformat": 4,
  "nbformat_minor": 0,
  "metadata": {
    "colab": {
      "provenance": [],
      "include_colab_link": true
    },
    "kernelspec": {
      "name": "python3",
      "display_name": "Python 3"
    },
    "language_info": {
      "name": "python"
    }
  },
  "cells": [
    {
      "cell_type": "markdown",
      "metadata": {
        "id": "view-in-github",
        "colab_type": "text"
      },
      "source": [
        "<a href=\"https://colab.research.google.com/github/MayaYakimova/homework/blob/main/4_%D1%81%D0%B5%D0%BC_%D0%B4%D0%BE%D0%BC%D0%B0%D1%88%D0%BD%D1%8F%D1%8F_%D1%80%D0%B0%D0%B1%D0%BE%D1%82%D0%B0.ipynb\" target=\"_parent\"><img src=\"https://colab.research.google.com/assets/colab-badge.svg\" alt=\"Open In Colab\"/></a>"
      ]
    },
    {
      "cell_type": "markdown",
      "source": [
        "Задача 1.\n",
        "\n",
        "Найдите в тексте все отдельно стоящие (то есть, не окруженные буквами) арабские числа."
      ],
      "metadata": {
        "id": "Mk_Vylp5HyLY"
      }
    },
    {
      "cell_type": "code",
      "execution_count": 1,
      "metadata": {
        "id": "WtQ5ygaFeQpv",
        "colab": {
          "base_uri": "https://localhost:8080/"
        },
        "outputId": "deacd3d5-ae9b-4c19-8535-925e8627bd40"
      },
      "outputs": [
        {
          "output_type": "stream",
          "name": "stdout",
          "text": [
            "['9827', '23', '5']\n"
          ]
        }
      ],
      "source": [
        "import re\n",
        "text = '9827 - номер их дома. он прошелся по новой квартире в доме номер 23 и ушел в комнату которых всего было 5'\n",
        "numbers = re.findall(r'\\b\\d+\\b', text)\n",
        "print(numbers)\n"
      ]
    },
    {
      "cell_type": "markdown",
      "source": [
        "Задача 2.\n",
        "\n",
        "Найдите в тексте все словоформы слова \"точка\", при этом нельзя, чтобы регулярное выражение что-то находило внутри слов типа \"цветочки\"."
      ],
      "metadata": {
        "id": "xCDPn1Y_H2in"
      }
    },
    {
      "cell_type": "code",
      "source": [
        "import re \n",
        "text = 'цветочки не считаются точкой, потому что точка не есть цветочек'\n",
        "print(re.findall(r'\\b[Тт]очк[аиуо](?:й|ю)?\\b', text))\n"
      ],
      "metadata": {
        "colab": {
          "base_uri": "https://localhost:8080/"
        },
        "id": "bLFVhLqBgYND",
        "outputId": "e41cfd58-9bd6-48e4-d0b0-3fbac4ec3d0e"
      },
      "execution_count": 5,
      "outputs": [
        {
          "output_type": "stream",
          "name": "stdout",
          "text": [
            "['точкой', 'точка']\n"
          ]
        }
      ]
    },
    {
      "cell_type": "markdown",
      "source": [
        "Задача 3.\n",
        "\n",
        "Найдите в тексте упоминания годов (н-р, 1982, 1201...), но только в диапазоне от 1000 до 2000 включительно. 2001 уже не устраивает."
      ],
      "metadata": {
        "id": "RiSQ7tr9H51k"
      }
    },
    {
      "cell_type": "code",
      "source": [
        "import re \n",
        "text = '''1982 3456 2000 1452 эти даты хороши'''\n",
        "print(re.findall(r'\\b(1\\d{3}|2000)\\b', text))\n"
      ],
      "metadata": {
        "colab": {
          "base_uri": "https://localhost:8080/"
        },
        "id": "8o4rfJqlgZt0",
        "outputId": "8c7263e8-67bc-4004-a754-60bb153a91ab"
      },
      "execution_count": 7,
      "outputs": [
        {
          "output_type": "stream",
          "name": "stdout",
          "text": [
            "['1982', '2000', '1452']\n"
          ]
        }
      ]
    },
    {
      "cell_type": "markdown",
      "source": [
        "Задача 4.\n",
        "\n",
        "В тексте есть скобки, причем скобки могут быть вложены друг в друга. Найдите содержимое скобок, причем если скобки вложены - нас интересует только содержимое внутренних скобок. Бонусный балл, если предложите два варианта."
      ],
      "metadata": {
        "id": "oufYBdjAO8O8"
      }
    },
    {
      "cell_type": "code",
      "source": [
        "import re\n",
        "text = ''' wyt pyf:: (xnj gbcfnm pfpf ) ( hfye f j( fh))'''\n",
        "print(re.findall(r'(?<=\\()[^()]*(?=\\))', text))"
      ],
      "metadata": {
        "colab": {
          "base_uri": "https://localhost:8080/"
        },
        "id": "fz4keCmQO_UH",
        "outputId": "21d68d87-64aa-43ba-d7e1-8c101f7a652d"
      },
      "execution_count": 13,
      "outputs": [
        {
          "output_type": "stream",
          "name": "stdout",
          "text": [
            "['xnj gbcfnm pfpf ', ' fh']\n"
          ]
        }
      ]
    },
    {
      "cell_type": "markdown",
      "source": [
        "Задача 5.\n",
        "\n",
        "Названия популярных мессенджеров часто пишутся по-разному, например, встречаются варианты ватсап, вотсап и другие. Постарайтесь учесть в регулярном выражении, которое бы отлавливало название мессенджера WhatsApp, известные вам варианты (или те, которые придут в голову)."
      ],
      "metadata": {
        "id": "0-k7hYB5H6sc"
      }
    },
    {
      "cell_type": "code",
      "source": [
        "import re \n",
        "text = 'вотсап восап ватсап воцап Вацап Вотсап - такими способами называют мессенджер некоторые люди'\n",
        "print(re.findall(r'[вВ][ао]т?[цс]ап', text))\n"
      ],
      "metadata": {
        "colab": {
          "base_uri": "https://localhost:8080/"
        },
        "id": "Fob4BAFegZ2i",
        "outputId": "9efb209d-4c64-4418-9080-e9ff3cfb741f"
      },
      "execution_count": 8,
      "outputs": [
        {
          "output_type": "stream",
          "name": "stdout",
          "text": [
            "['вотсап', 'восап', 'ватсап', 'воцап', 'Вацап', 'Вотсап']\n"
          ]
        }
      ]
    },
    {
      "cell_type": "markdown",
      "source": [
        "Задача 6.\n",
        "\n",
        "Составьте регулярное выражение, которое бы отлавливало слова русского языка, причем словом считаем последовательность кириллических букв, внутри которой могут встречаться дефисы, но не подряд и не с края слова (например, нас устроит \"русско-англо-французский\", а \"русско--английский\" должно найтись как два отдельных вхождения)."
      ],
      "metadata": {
        "id": "EFoiUsuzH7Sg"
      }
    },
    {
      "cell_type": "code",
      "source": [
        "import re \n",
        "text = ' слово русский отличается от русско-русско--английский и русско-английский, а вот русско--французский это два слова что я пишу мда'\n",
        "print(re.findall(r'[а-яА-Я]+(?:-[а-яА-Я]+)*', text))\n"
      ],
      "metadata": {
        "colab": {
          "base_uri": "https://localhost:8080/"
        },
        "id": "g_7hMkVDgZ45",
        "outputId": "d86c2780-fb39-49cc-c6d6-987be85a7eea"
      },
      "execution_count": 9,
      "outputs": [
        {
          "output_type": "stream",
          "name": "stdout",
          "text": [
            "['слово', 'русский', 'отличается', 'от', 'русско-русско', 'английский', 'и', 'русско-английский', 'а', 'вот', 'русско', 'французский', 'это', 'два', 'слова', 'что', 'я', 'пишу', 'мда']\n"
          ]
        }
      ]
    },
    {
      "cell_type": "markdown",
      "source": [
        "Задача 7.\n",
        "\n",
        "У нас есть некий текст, в котором много упоминается Дж. Р. Р. Толкиен в разных вариантах. Нам нужно посчитать все упоминания его имени: напишите регулярное выражение, которое будет отлавливать как полные варианты имени писателя, так и краткие, отдельно стоящую фамилию (и неплохо бы учесть, что иногда его пишут как Толкин)."
      ],
      "metadata": {
        "id": "2hdUsUfhH79c"
      }
    },
    {
      "cell_type": "code",
      "source": [
        "import re \n",
        "\n",
        "text = '''Большинство предков Толкина по линии отца были ремесленниками. Род Толкинов происходит из Нижней Саксонии, однако с XVIII века предки писателя поселились в Англии, «быстренько превратившись в коренных англичан»[17], по выражению самого Толкина. Толкин выводил свою фамилию из немецкого слова tollkühn, которое означает «безрассудно храбрый»[18][комм. 1]. Несколько семей с фамилией Tolkien и её вариантами по сей день живут на северо-западе Германии, прежде всего в Нижней Саксонии и Гамбурге[19][20]. Один немецкий писатель предположил, что фамилия, скорее всего, произошла от названия деревни Tolkynen близ Растенбурга в Восточной Пруссии (ныне северо-восточная Польша), хотя до Нижней Саксонии там далеко. Название этой деревни, в свою очередь, происходит из вымершего прусского языка[21][22].\n",
        "\n",
        "Родители матери Толкина, Джон и Эмили Джейн Саффилд (англ. Suffield), жили в Бирмингеме, где с начала XIX века владели зданием в центре города под названием «Овечий дом» (Lamb House). С 1812 года прапрадед Толкина Уильям Саффилд держал там книжный и канцелярский магазин, а с 1826 прадед Толкина, тоже Джон Саффилд, торговал там декоративными тканями и чулками[23].'''\n",
        "pattern = r\"(?<=\\b[A-ЯЁ]\\.)?[A-ЯЁ][а-яё]+(?: [А-ЯЁ]\\.)? [А-ЯЁ][а-яё]+|(Дж\\.?\\s+)?Р\\.?\\s+Р\\.?\\s+Толки[н|нь]?|Толкиен\"\n",
        "\n",
        "matches = re.findall(pattern, text)\n",
        "\n",
        "print('Сколько встретилось -', len(matches)) "
      ],
      "metadata": {
        "colab": {
          "base_uri": "https://localhost:8080/"
        },
        "id": "AO8htuRVgZ7N",
        "outputId": "d6a124d6-31c8-4dfb-c3cc-3be58dd3326a"
      },
      "execution_count": 11,
      "outputs": [
        {
          "output_type": "stream",
          "name": "stdout",
          "text": [
            "Сколько встретилось - 8\n"
          ]
        }
      ]
    },
    {
      "cell_type": "markdown",
      "source": [
        "Задача 8.\n",
        "\n",
        "Поисследуем синтаксические редупликации: составьте шаблон, который будет отлавливать в тексте все выражения вида Х так Х: Петя так Петя, сделал так сделал."
      ],
      "metadata": {
        "id": "WEana8EJH8v-"
      }
    },
    {
      "cell_type": "code",
      "source": [
        "import re\n",
        "text = 'Петя так Петя сделал так сделал'\n",
        "redup = re.findall(r'(\\b\\w+\\b) так (\\1\\b)', text)\n",
        "for r in redup:\n",
        "    print(r[0] + ' так ' + r[1])\n"
      ],
      "metadata": {
        "colab": {
          "base_uri": "https://localhost:8080/"
        },
        "id": "ZwOhFChJgZ9q",
        "outputId": "f503378b-463a-4559-d56d-83bebc99a8ad"
      },
      "execution_count": 14,
      "outputs": [
        {
          "output_type": "stream",
          "name": "stdout",
          "text": [
            "Петя так Петя\n",
            "сделал так сделал\n"
          ]
        }
      ]
    },
    {
      "cell_type": "markdown",
      "source": [
        "Задача 9.\n",
        "\n",
        "Ищем названия в кавычках: найдите содержимое кавычек, причем мы считаем, что все, что длиннее пяти слов - уже не название, а, возможно, цитата, которые нас не интересуют. Учтите, что кавычки могут быть любые.\n",
        "\n"
      ],
      "metadata": {
        "id": "b5LfB1feQwRc"
      }
    },
    {
      "cell_type": "code",
      "source": [
        "import re\n",
        "text = 'мне никогда не доводилось \"ничего\" менять \"в своей жизни потому что это было бы неразумно\", ведь \"ничего\" не означает \"все\"'\n",
        "print(re.findall(r'(?<=\\\")(\\w*? ?\\w*? ?\\w*? ?\\w*? ?\\w*?)(?=\\\")', text))"
      ],
      "metadata": {
        "colab": {
          "base_uri": "https://localhost:8080/"
        },
        "id": "RpTt79cDQ0i_",
        "outputId": "afc286a2-af41-466e-e015-bf57e708e0a8"
      },
      "execution_count": 21,
      "outputs": [
        {
          "output_type": "stream",
          "name": "stdout",
          "text": [
            "['ничего', ' менять ', 'ничего', ' не означает ', 'все']\n"
          ]
        }
      ]
    },
    {
      "cell_type": "markdown",
      "source": [
        "Задача 10.\n",
        "\n",
        "Хотим подсчитать частотность слова \"тоже\", причем нас не интересуют случаи вида \"тоже мне\". Составьте регулярное выражение, которое будет отлавливать только \"тоже\" без \"мне\"."
      ],
      "metadata": {
        "id": "ZXTguod2H9yX"
      }
    },
    {
      "cell_type": "code",
      "source": [
        "import re\n",
        "text = 'тоже мне тоже мне тоже мне тоже'\n",
        "print(re.findall(r\"тоже (?! мне)\", text))\n",
        "\n"
      ],
      "metadata": {
        "colab": {
          "base_uri": "https://localhost:8080/"
        },
        "id": "T4yMhlL5gZ_6",
        "outputId": "0d4d3203-bf15-435f-bcc2-d33e7d751e4f"
      },
      "execution_count": 23,
      "outputs": [
        {
          "output_type": "stream",
          "name": "stdout",
          "text": [
            "['тоже ', 'тоже ', 'тоже ']\n"
          ]
        }
      ]
    },
    {
      "cell_type": "markdown",
      "source": [
        "Задача 12.\n",
        "\n",
        "Разделите текст по предложениям с помощью регулярных выражений: шаблон должен захватывать одно предложение. Мы считаем, что в предложении могут быть буквы любых алфавитов, цифры, пунктуация и пробелы, а заканчивается оно на точку, вопросительный или восклицательный знак."
      ],
      "metadata": {
        "id": "3jWjyU4EH_SP"
      }
    },
    {
      "cell_type": "code",
      "source": [
        "import re\n",
        "text = 'ну что я могу сказать? я не очень умная. почему не знаю! Но мне очень жаль.'\n",
        "print(re.findall(r'[\\w\\s\\d,:;]+[.?!]', text))\n",
        "\n"
      ],
      "metadata": {
        "colab": {
          "base_uri": "https://localhost:8080/"
        },
        "id": "sHNQYJ9RibSU",
        "outputId": "351223b1-c9ad-46d8-9f53-0acb9e9ffd8b"
      },
      "execution_count": 26,
      "outputs": [
        {
          "output_type": "stream",
          "name": "stdout",
          "text": [
            "['ну что я могу сказать?', ' я не очень умная.', ' почему не знаю!', ' Но мне очень жаль.']\n"
          ]
        }
      ]
    }
  ]
}