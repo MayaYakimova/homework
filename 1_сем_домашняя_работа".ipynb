{
  "nbformat": 4,
  "nbformat_minor": 0,
  "metadata": {
    "colab": {
      "provenance": [],
      "include_colab_link": true
    },
    "kernelspec": {
      "name": "python3",
      "display_name": "Python 3"
    },
    "language_info": {
      "name": "python"
    }
  },
  "cells": [
    {
      "cell_type": "markdown",
      "metadata": {
        "id": "view-in-github",
        "colab_type": "text"
      },
      "source": [
        "<a href=\"https://colab.research.google.com/github/MayaYakimova/homework/blob/main/1_%D1%81%D0%B5%D0%BC_%D0%B4%D0%BE%D0%BC%D0%B0%D1%88%D0%BD%D1%8F%D1%8F_%D1%80%D0%B0%D0%B1%D0%BE%D1%82%D0%B0%22.ipynb\" target=\"_parent\"><img src=\"https://colab.research.google.com/assets/colab-badge.svg\" alt=\"Open In Colab\"/></a>"
      ]
    },
    {
      "cell_type": "markdown",
      "source": [
        "Программе на вход подается число в римской записи, то есть, строка содержит заглавные латинские буквы: I, V, X, C, D, M, причем IV - это 4, XC - это 90, CM - это 900. Программа должна переводить это число в арабское.\n",
        "\n",
        "Подсказка: можно воспользоваться методами строк."
      ],
      "metadata": {
        "id": "VLVuTmWHggga"
      }
    },
    {
      "cell_type": "code",
      "source": [
        "string = input()\n",
        "\n",
        "dictionary = {'M': 1000, 'D': 500, 'C': 100, 'L': 50, 'X': 10, 'V': 5, 'I': 1}\n",
        "\n",
        "answer = dictionary[string[len(string)-1]]\n",
        "\n",
        "for i in range(len(string) - 2, -1, -1):\n",
        "    if dictionary[string[i]] >= dictionary[string[i + 1]]:\n",
        "        answer += dictionary[string[i]]\n",
        "    else:\n",
        "        answer -= dictionary[string[i]]\n",
        "\n",
        "print(answer)"
      ],
      "metadata": {
        "id": "3zL2NxxTAzk5"
      },
      "execution_count": null,
      "outputs": []
    },
    {
      "cell_type": "markdown",
      "source": [
        "Шахматный конь ходит буквой “Г” — на две клетки по вертикали в любом направлении и на одну клетку по горизонтали, или наоборот. Даны две различные клетки шахматной доски, определите, может ли конь попасть с первой клетки на вторую одним ходом.\n",
        "\n",
        "Дополнительное условие: выполните проверку в один шаг с помощью арифметических операций."
      ],
      "metadata": {
        "id": "3N4DWn3_A0Ng"
      }
    },
    {
      "cell_type": "code",
      "source": [
        "x1 = int(input())\n",
        "y1 = int(input())\n",
        "x2 = int(input())\n",
        "y2 = int(input())\n",
        "\n",
        "xs = abs(x1 - x2)\n",
        "ys = abs(y1 - y2)\n",
        "\n",
        "if xs == 1 and ys == 2 or xs == 2 and ys == 1:\n",
        "    print('Может.')\n",
        "else:\n",
        "    print('Не может.')\n"
      ],
      "metadata": {
        "id": "uacsSZhmA1Zg"
      },
      "execution_count": null,
      "outputs": []
    },
    {
      "cell_type": "markdown",
      "source": [
        "Задача 3 (3 балла)."
      ],
      "metadata": {
        "id": "ysrUnZlwBcPX"
      }
    },
    {
      "cell_type": "code",
      "source": [
        "from random import randint\n",
        "\n",
        "def generate_matrix(m, n):\n",
        "    x = -5\n",
        "    y = 5\n",
        "    matrix = [[randint(x, y) for z in range(n)] for t in range(m)]\n",
        "    return matrix\n",
        "\n",
        "def generate_identity(n):\n",
        "    matrix = [[0] * i + [1] + [0] * (n - i - 1) for i in range(n)]\n",
        "    return matrix\n",
        "\n",
        "def transpose(matrix):\n",
        "    matr = [[] for x in range(len(matrix[0]))]\n",
        "    for c in range(len(matrix[0])):\n",
        "      for r in range(len(matrix)):\n",
        "        matr[c].append(matrix[r][c])\n",
        "    return matr\n",
        "\n",
        "generate_matrix(3, 3)\n",
        "generate_identity(4)\n",
        "transpose([[5, 8, -10],\n",
        "           [0, -5, -10],\n",
        "           [-10, -2, 8]])"
      ],
      "metadata": {
        "id": "raV8cH8-BeX7"
      },
      "execution_count": null,
      "outputs": []
    },
    {
      "cell_type": "markdown",
      "source": [
        "Задача 4."
      ],
      "metadata": {
        "id": "kfi5GGxnBesP"
      }
    },
    {
      "cell_type": "code",
      "source": [
        "def words(text):\n",
        "      words = []\n",
        "      for line in text:\n",
        "        line = line[:-2]\n",
        "        line = line.split()\n",
        "        for w in line:\n",
        "          words.append(w.lower())\n",
        "      return words\n",
        "\n",
        "def statistics(path):\n",
        "  with open(path, \"r\") as f:\n",
        "      f = f.readlines()\n",
        "  all_words = words(f)\n",
        "  d = {}\n",
        "  for x in all_words:\n",
        "    if x in d:\n",
        "      d[x] = d[x] + 1\n",
        "    else:\n",
        "      d[x] = 1\n",
        "  ans = sorted(d.items(), key=lambda item: item[1])\n",
        "  if len(ans) >= 10:\n",
        "    return ans[-10:]\n",
        "  else:\n",
        "    return ans\n",
        "\n"
      ],
      "metadata": {
        "id": "bJaN0Ur7mV2f"
      },
      "execution_count": null,
      "outputs": []
    }
  ]
}