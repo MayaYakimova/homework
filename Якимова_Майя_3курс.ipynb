{
  "nbformat": 4,
  "nbformat_minor": 0,
  "metadata": {
    "colab": {
      "provenance": [],
      "include_colab_link": true
    },
    "kernelspec": {
      "name": "python3",
      "display_name": "Python 3"
    },
    "language_info": {
      "name": "python"
    }
  },
  "cells": [
    {
      "cell_type": "markdown",
      "metadata": {
        "id": "view-in-github",
        "colab_type": "text"
      },
      "source": [
        "<a href=\"https://colab.research.google.com/github/MayaYakimova/homework/blob/main/%D0%AF%D0%BA%D0%B8%D0%BC%D0%BE%D0%B2%D0%B0_%D0%9C%D0%B0%D0%B9%D1%8F_3%D0%BA%D1%83%D1%80%D1%81.ipynb\" target=\"_parent\"><img src=\"https://colab.research.google.com/assets/colab-badge.svg\" alt=\"Open In Colab\"/></a>"
      ]
    },
    {
      "cell_type": "markdown",
      "source": [
        "Задача 1.\n",
        "Напишите программу, которая будет проверять тексты на попытки обмануть антиплагиат с помощью подмены некоторых символов на такие же, но латинские. Программа должна открывать текст в формате .txt, разделять его на токены любым способом и проверять каждый токен. Если токен содержит только латинские или кириллические символы, то с ним все хорошо, а если в нем есть 1-2 латинских символа и все остальные - кириллические, то программа должна печатать этот токен и номер его строки с указанием латинских букв. Строки можно нумеровать с помощью счетчика, когда читаете файл. Лучше всего считывать файл построчно, очевидно."
      ],
      "metadata": {
        "id": "Ov6uqmZm-Blg"
      }
    },
    {
      "cell_type": "code",
      "source": [
        "s=open('file.txt').readlines()\n",
        "for i in range(len(s)):\n",
        "  for j in range(len(s[i])):\n",
        "    if  65 <= ord(s[i][j]) <= 122:\n",
        "      print(s[i][j],i+1)\n",
        "\n",
        "\n",
        "\n"
      ],
      "metadata": {
        "id": "DCZ_GWIx-DLh"
      },
      "execution_count": null,
      "outputs": []
    },
    {
      "cell_type": "markdown",
      "source": [
        "Задача 2 (3 балла).\n",
        "Напишите программу для игры в города. При загрузке программа должна подгружать файл с названиями городов (вам придется его составить, можно поискать готовые списки). Сама игра происходит следующим образом: начинает игрок-человек и вводит любое название города. Программа проверяет, на какую букву заканчивается это название, и случайным образом выбирает подходящий город на эту букву в своем списке (для случайного выбора можно использовать библиотеку random и функцию choice). Если город заканчивается на 'ь', берем предпоследнюю букву (или можно играть по-английски). Когда человек вводит следующий ответ, программа должна проверить, начинается ли введенный город на правильную букву, и если нет, то потребовать ввести заново. Чтобы остановить игру, человек должен просто нажать Enter. Не забудьте создать множество для уже введенных городов, ведь повторяться нельзя! (Список городов у программы тоже на самом деле может быть множеством или даже словарем, чтобы удобнее было по буквам отсеивать).\n",
        "\n",
        "+1 дополнительный балл, если напишете в классах."
      ],
      "metadata": {
        "id": "Pow5s1ii-D5U"
      }
    },
    {
      "cell_type": "code",
      "source": [
        "import random\n",
        "a=open('cities.txt').readlines()\n",
        "b=input()\n",
        "while b !='':\n",
        "  k = b[len(b) - 1]\n",
        "  c = [x for x in a if x[0].lower() == k.lower()]\n",
        "  f = random.choice(c)\n",
        "  print(f)\n",
        "  b = input()\n",
        "  if b != '':\n",
        "    while b[0].lower() != f[len(f)-1].lower():\n",
        "      print('try again')\n",
        "      b = input()\n"
      ],
      "metadata": {
        "id": "s8P41kBt-HPw"
      },
      "execution_count": null,
      "outputs": []
    },
    {
      "cell_type": "markdown",
      "source": [
        "Задача 3. Представим себе, что мы планируем написать игру \"Тамагочи\". Напишите класс Cat для этой игры."
      ],
      "metadata": {
        "id": "cwQq8PnQ-HtY"
      }
    },
    {
      "cell_type": "code",
      "source": [],
      "metadata": {
        "id": "4T8oB8vjX1w3"
      },
      "execution_count": null,
      "outputs": []
    },
    {
      "cell_type": "code",
      "source": [
        "from time import sleep\n",
        "\n",
        "class Cat:\n",
        "    def __init__(self, name, age, health, stamina, relationship):\n",
        "        # the cat would have a name, age, health, stamina and the level of relationship with the player\n",
        "        self.name = name\n",
        "        self.age = age\n",
        "        self.health = health\n",
        "        self.stamina = stamina\n",
        "        self.relationship = relationship\n",
        "        \n",
        "    def __str__(self):\n",
        "        return f\"{self.name, self.age, self.health, self.stamina, self.relationship}\"\n",
        "    \n",
        "    def __repr__(self):\n",
        "        return f\"{self.__class__}: {self.name}, {self.age}, {self.health}, {self.stamina}, {self.relationship}\"\n",
        "        \n",
        "    def speak(self):\n",
        "        return 'Meow'\n",
        "    \n",
        "    def sleep(self, t):\n",
        "        ''' the cat sleeps and restores its stamina. \n",
        "        You can use module time and its function sleep(seconds) to imitate this. Function sleep makes PC do nothing and wait'''\n",
        "        self.stamina += t\n",
        "        time.sleep(t)\n",
        "    def feed(self, f):\n",
        "        # the player feeds the cat so it restores its health\n",
        "        self.health += f\n",
        "    def play(self, rel):\n",
        "        # the player plays with the cat and their relationship level grows\n",
        "        self.relationship += rel\n",
        "    def grow(self):\n",
        "        # the cat gets older by 1 year. If it is older than 18 years, it dies :( Just print a message about it\n",
        "        self.age+=1\n",
        "cat = Cat('йошино', 17, 50, 50, 50)\n",
        "a=input()\n",
        "while a != '':\n",
        "  if a=='speak':\n",
        "    print(cat.speak())\n",
        "  if a == 'sleep':\n",
        "    b = int(input())\n",
        "    cat.sleep(b)\n",
        "  if a == 'feed':\n",
        "    b = int(input())\n",
        "    cat.feed(b)\n",
        "  if a == 'play':\n",
        "    b = int(input())\n",
        "    cat.play(b)\n",
        "  if a == 'grow':\n",
        "    cat.grow()\n",
        "    if cat.age > 18:\n",
        "      print('it is gone, sorry')\n",
        "      break\n",
        "  print(cat)\n",
        "  a=input()"
      ],
      "metadata": {
        "id": "JWozMQN7-LOH"
      },
      "execution_count": null,
      "outputs": []
    }
  ]
}