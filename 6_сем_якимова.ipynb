{
  "nbformat": 4,
  "nbformat_minor": 0,
  "metadata": {
    "colab": {
      "provenance": [],
      "include_colab_link": true
    },
    "kernelspec": {
      "name": "python3",
      "display_name": "Python 3"
    },
    "language_info": {
      "name": "python"
    }
  },
  "cells": [
    {
      "cell_type": "markdown",
      "metadata": {
        "id": "view-in-github",
        "colab_type": "text"
      },
      "source": [
        "<a href=\"https://colab.research.google.com/github/MayaYakimova/homework/blob/main/6_%D1%81%D0%B5%D0%BC_%D1%8F%D0%BA%D0%B8%D0%BC%D0%BE%D0%B2%D0%B0.ipynb\" target=\"_parent\"><img src=\"https://colab.research.google.com/assets/colab-badge.svg\" alt=\"Open In Colab\"/></a>"
      ]
    },
    {
      "cell_type": "markdown",
      "source": [
        "ДОМАШНЕЕ ЗАДАНИЕ СЕМИНАР 6"
      ],
      "metadata": {
        "id": "W9wLOgiZ1wmN"
      }
    },
    {
      "cell_type": "markdown",
      "source": [
        "Задача 1 (2 балла).\n",
        "Напишите класс Linguist, у которого при создании будут повляться четыре динамических атрибута: имя, аффилиация, показатель выносливости (stamina) и список публикаций (по умолчанию пустой)."
      ],
      "metadata": {
        "id": "2Fw6sKgw109H"
      }
    },
    {
      "cell_type": "code",
      "source": [
        "from time import sleep\n",
        "\n",
        "class Linguist:\n",
        "    def __init__(self, name, affiliation, stamina, publications):\n",
        "      self.name = name\n",
        "      self.affiliation = affiliation\n",
        "      self.stamina = stamina\n",
        "      self.publications = []\n",
        "\n",
        "    def __str__(self):\n",
        "        return f\"{self.name, self.affiliation, self.stamina, self.publications}\"\n",
        "    \n",
        "    def __repr__(self):\n",
        "        return f\"{self.__class__}: {self.name}, {self.affiliation}, {self.stamina}, {self.publications}\"\n",
        "        \n",
        "    def work(self, publication):\n",
        "        '''\n",
        "        Лингвист работает над публикацией n времени (можете придумать, как вычислять его на основе названия публикации).\n",
        "        За это время он устает в k*n раз (вычитаем это из его выносливости, только следите, чтобы усталость отрицательной не сделалась).\n",
        "        '''\n",
        "        n=0\n",
        "        self.publications.append(publication)\n",
        "        if publication == 'публикация':\n",
        "          n=5\n",
        "        if publication == 'отзыв':\n",
        "          n=6\n",
        "        if publication == 'рецензия':\n",
        "          n=7\n",
        "        self.stamina-=2*n\n",
        "    \n",
        "    def sleep(self, hours):\n",
        "        '''Лингвист спит n часов, восстанавливая k*n выносливости'''\n",
        "        self.stamina += 2*hours\n",
        "        sleep(hours)\n",
        "        \n",
        "    def show_publications(self):\n",
        "        '''Лингвист сообщает, какие у него появились публикации'''\n",
        "        print(self.publications)\n",
        "l = Linguist('ИИ', 1, 99, [])\n",
        "p=input()\n",
        "l.work(p)\n",
        "p=input()\n",
        "l.work(p)\n",
        "p=input()\n",
        "l.work(p)\n",
        "l.sleep(8)\n",
        "print(l)\n",
        "l.show_publications()\n",
        "\n"
      ],
      "metadata": {
        "id": "viQO7tJq11xE"
      },
      "execution_count": null,
      "outputs": []
    },
    {
      "cell_type": "markdown",
      "source": [
        "Задача 2 (2 балла).\n",
        "Доработаем задачу 1: добавьте класс \"публикация\", чтобы у публикации была еще некоторая информация о ее объеме (и, соответственно, чтобы можно было вычислять количество времени, которое на нее нужно потратить). А у лингвиста теперь должен появиться показатель \"наработал в экспедициях\", который будет пополняться в специальном методе go_to_expedition(), и если его значение будет недостаточным для выбранной публикации, нужно об этом предупреждать и публикацию не добавлять."
      ],
      "metadata": {
        "id": "BY0UJ_MFTHFS"
      }
    },
    {
      "cell_type": "code",
      "source": [
        "class Linguist:\n",
        "   def __init__(self, name, affiliation, stamina, publications, expedition):\n",
        "      self.name = name\n",
        "      self.affiliation = affiliation\n",
        "      self.stamina = stamina\n",
        "      self.publications = []\n",
        "      self.expedition = expedition\n",
        "\n",
        "   def __str__(self):\n",
        "        return f\"{self.name, self.affiliation, self.stamina, self.publications, self.expedition}\"\n",
        "    \n",
        "   def __repr__(self):\n",
        "        return f\"{self.__class__}: {self.name}, {self.affiliation}, {self.stamina}, {self.publications}, {self.expedition}\"\n",
        "        \n",
        "   def work(self, publication):\n",
        "        '''\n",
        "        Лингвист работает над публикацией n времени (можете придумать, как вычислять его на основе названия публикации).\n",
        "        За это время он устает в k*n раз (вычитаем это из его выносливости, только следите, чтобы усталость отрицательной не сделалась).\n",
        "        '''\n",
        "        n=0\n",
        "        if publication.name == 'публикация':\n",
        "          if self.expedition >= publication.data:\n",
        "            self.publications.append(publication.name)\n",
        "            n=5\n",
        "          else: print('не хватает опыта')\n",
        "        if publication.name == 'отзыв':\n",
        "          if self.expedition >= publication.data:\n",
        "            self.publications.append(publication.name)\n",
        "            n=6\n",
        "          else: print('не хватает опыта')\n",
        "        if publication.name == 'рецензия':\n",
        "          if self.expedition >= publication.data:\n",
        "            self.publications.append(publication.name)\n",
        "            n=7\n",
        "          else: print('не хватает опыта')\n",
        "        self.stamina-=2*n\n",
        "    \n",
        "   def sleep(self, hours):\n",
        "        '''Лингвист спит n часов, восстанавливая k*n выносливости'''\n",
        "        self.stamina += 2*hours\n",
        "        sleep(hours)\n",
        "        \n",
        "   def show_publications(self):\n",
        "        '''Лингвист сообщает, какие у него появились публикации'''\n",
        "        print(self.publications)\n",
        "\n",
        "   def go_to_expedition(self, area, days):\n",
        "        '''\n",
        "        Можно придумать что-нибудь и для региона, куда едет лингвист:\n",
        "        допустим, на Кавказе показатель будет расти быстрее, чем в Поволжье и т.п.\n",
        "        '''\n",
        "        if area == 'япония':\n",
        "          self.exp+=5*days\n",
        "        if area == 'перу':\n",
        "          self.exp+=2*days\n",
        "        if area == 'италия':\n",
        "          self.exp+=3*days \n",
        "        if area == 'казахстан':\n",
        "          self.exp+=4*days\n",
        "\n",
        "class Publication:\n",
        "    def __init__(self, name, volume, data):\n",
        "        '''\n",
        "        name - имя публикации\n",
        "        volume - количество страниц\n",
        "        data - количество необходимого материала (в попугаях...)\n",
        "        '''\n",
        "        self.name = name\n",
        "        self.volume = volume\n",
        "        self.data = data\n",
        "        \n",
        "    def __str__(self):\n",
        "        return f\"{self.name, self.volume, self.data}\"\n",
        "    \n",
        "    def __repr__(self):\n",
        "        return f\"{self.__class__}: {self.name}, {self.volume}, {self.data}\"\n",
        "L = Linguist('ИИ', 0, 100, [], 0)\n",
        "p=input()\n",
        "if p == 'публикация':\n",
        "  Pub = Publication(p, 10, 10)\n",
        "if p == 'отзыв':\n",
        "  Pub = Publication(p, 10, 15)\n",
        "if p == 'рецензия':\n",
        "  Pub = Publication(p, 10, 20)\n",
        "L.go_to_expedition('перу',5)\n",
        "L.work(Pub)\n",
        "L.go_to_expedition('япония',1)\n",
        "L.work(Pub)\n",
        "L.show_publications()"
      ],
      "metadata": {
        "id": "BaLqNmf9THbp"
      },
      "execution_count": null,
      "outputs": []
    },
    {
      "cell_type": "markdown",
      "source": [
        "Задача 3 (4 балла).\n",
        "Напишите программу - телефонный справочник. Что она должна содержать:\n",
        "\n",
        "- класс \"справочник\", в котором будут методы для загрузки данных из файла, сохранения в файл, поиска и добавления номеров\n",
        "- в самом классе должен быть атрибут - словарь, в котором хранятся фамилии и номера\n",
        "- метод сохранения в файл сохраняет словарь с телефонами и фамилиями в файл с помощью библиотеки pickle\n",
        "- метод загрузки этот файл считывает и обновляет словарь в классе\n",
        "- метод поиска ищет по фамилии в словаре\n",
        "- метод добавления номера проверяет, чтобы пользователь вводил фамилию, а не бессмысленный набор символов, и телефон в определенном формате (какой формат - решаете сами)\n",
        "- можно метод удаления номера добавить\n",
        "- опционально можно сделать такой словарь, в котором будут рабочие и домашние телефоны (а также почта, которую тоже надо проверять на правильность) - за это + балл"
      ],
      "metadata": {
        "id": "B3H1cRDETHs8"
      }
    },
    {
      "cell_type": "code",
      "source": [
        "import re\n",
        "import pickle\n",
        "import os\n",
        "\n",
        "class PhoneBook:\n",
        "    def __init__(self):\n",
        "        self.contacts = {}\n",
        "    \n",
        "    def savedict(self):\n",
        "        with open('phonebook.pickle', 'wb') as f:\n",
        "            pickle.dump(self.contacts, f)\n",
        "        print(\"данные сохранены\")\n",
        "    \n",
        "    def loaddict(self):\n",
        "        if os.path.exists('phonebook.pickle'):\n",
        "            with open('phonebook.pickle', 'rb') as f:\n",
        "                self.contacts = pickle.load(f)\n",
        "            print(\"данные загружены\")\n",
        "        else:\n",
        "            print(\"файл не найден\")\n",
        "    \n",
        "    def addphone(self,name,phone_number):\n",
        "        if name not in self.contacts:\n",
        "            if re.match(r\"(?:(?:8|\\+7)[\\- ]?)?(?:\\(?\\d{3}\\)?[\\- ]?)?[\\d\\- ]{7,10}\", phone_number):\n",
        "                self.contacts[name] = phone_number\n",
        "                print(\"контакт добавлен\")\n",
        "            else:\n",
        "                print(\"некорректный номер телефона\")\n",
        "        else:\n",
        "            print(\"такой контакт уже существует\")\n",
        "        \n",
        "    def findphone(self,name):\n",
        "        if name in self.contacts:\n",
        "            print(\"номер телефона контакта {}: {}\".format(name, self.contacts[name]))\n",
        "        else:\n",
        "            print(\"контакт не найден\")\n",
        "        \n",
        "def main():\n",
        "    phonebook = PhoneBook()\n",
        "    if os.path.exists('phonebook.pickle'):\n",
        "        phonebook.addphone(\"Майя\", \"+79778192287\")\n",
        "        phonebook.addphone(\"Марго\", \"89778192030\")\n",
        "        phonebook.addphone(\"Анна\", \"55-65\")\n",
        "        phonebook.findphone(\"Майя\")\n",
        "\n",
        "        phonebook.savedict()\n",
        "        phonebook.loaddict()\n",
        "    else:\n",
        "        print('файл не найден, создайте файл')       \n",
        "if __name__ == '__main__':\n",
        "    main()"
      ],
      "metadata": {
        "id": "b-HrUL8ETH95"
      },
      "execution_count": null,
      "outputs": []
    }
  ]
}