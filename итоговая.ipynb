{
  "nbformat": 4,
  "nbformat_minor": 0,
  "metadata": {
    "colab": {
      "provenance": [],
      "authorship_tag": "ABX9TyP+RMI/fF6823kwAmFnDb0W",
      "include_colab_link": true
    },
    "kernelspec": {
      "name": "python3",
      "display_name": "Python 3"
    },
    "language_info": {
      "name": "python"
    }
  },
  "cells": [
    {
      "cell_type": "markdown",
      "metadata": {
        "id": "view-in-github",
        "colab_type": "text"
      },
      "source": [
        "<a href=\"https://colab.research.google.com/github/MayaYakimova/homework/blob/main/%D0%B8%D1%82%D0%BE%D0%B3%D0%BE%D0%B2%D0%B0%D1%8F.ipynb\" target=\"_parent\"><img src=\"https://colab.research.google.com/assets/colab-badge.svg\" alt=\"Open In Colab\"/></a>"
      ]
    },
    {
      "cell_type": "markdown",
      "source": [
        "Задача 2 (3 балла).\n",
        "Сделайте морфосинтаксические разборы ваших текстов в формате UD, запишите .conllu-файлы. Не забудьте их потом мне скинуть!"
      ],
      "metadata": {
        "id": "drtoNJ6EoNK7"
      }
    },
    {
      "cell_type": "code",
      "source": [
        "!pip install pyconll"
      ],
      "metadata": {
        "colab": {
          "base_uri": "https://localhost:8080/"
        },
        "id": "B_kJgwC-JFH9",
        "outputId": "abe73932-c2f5-4768-b2f4-95f94fc7544e"
      },
      "execution_count": 7,
      "outputs": [
        {
          "output_type": "stream",
          "name": "stdout",
          "text": [
            "Looking in indexes: https://pypi.org/simple, https://us-python.pkg.dev/colab-wheels/public/simple/\n",
            "Collecting pyconll\n",
            "  Downloading pyconll-3.1.0-py3-none-any.whl (26 kB)\n",
            "Installing collected packages: pyconll\n",
            "Successfully installed pyconll-3.1.0\n"
          ]
        }
      ]
    },
    {
      "cell_type": "code",
      "execution_count": null,
      "metadata": {
        "id": "cX-vjaoboMLi"
      },
      "outputs": [],
      "source": [
        "import pyconll\n",
        "\n",
        "text = pyconll.load_from_file('processed.conllu')\n",
        "\n",
        "for sentence in text:\n",
        "  for token in sentence:\n",
        "    print(token.id, token.form, token.lemma, token.upos, token.feats, token.head, token.deprel)"
      ]
    },
    {
      "cell_type": "markdown",
      "source": [
        "Задача 1 (3 балла).\n",
        "\n",
        "Просмотрите оба выбранных текста. Удостоверьтесь, что тексты чистые, если же в них есть какой-то мусор: хештеги, затесавшиеся при OCR символы и подобное, почистите с помощью регулярных выражений.\n",
        "\n",
        "Проведите первичный статистический анализ: разбейте тексты на предложения и на токены, посчитайте количество того и другого, сопоставьте. Если ваши тексты параллельные, какой длиннее? В каком тексте средняя длина предложения больше? Почему? В каком тексте выше лексическое разнообразие?\n",
        "\n",
        "Таким образом, вам необходимо узнать следующие вещи:\n",
        "\n",
        "количество предложений\n",
        "количество токенов\n",
        "средняя длина предложения (среднее количество слов в предложении)\n",
        "соотношение \"уникальные токены / все токены\"\n",
        "(опционально) соотношение знаков пунктуации и слов"
      ],
      "metadata": {
        "id": "ODMduNk0seWU"
      }
    },
    {
      "cell_type": "code",
      "source": [
        "!pip install razdel"
      ],
      "metadata": {
        "colab": {
          "base_uri": "https://localhost:8080/"
        },
        "id": "F0wkn0dGshra",
        "outputId": "ef9e3819-6c22-443d-e187-2e24cc419a74"
      },
      "execution_count": 2,
      "outputs": [
        {
          "output_type": "stream",
          "name": "stdout",
          "text": [
            "Looking in indexes: https://pypi.org/simple, https://us-python.pkg.dev/colab-wheels/public/simple/\n",
            "Collecting razdel\n",
            "  Downloading razdel-0.5.0-py3-none-any.whl (21 kB)\n",
            "Installing collected packages: razdel\n",
            "Successfully installed razdel-0.5.0\n"
          ]
        }
      ]
    },
    {
      "cell_type": "code",
      "source": [
        "from razdel import sentenize\n",
        "from razdel import tokenize\n",
        "\n",
        "with open('волки1.txt', 'r', encoding = 'utf-8') as file1:\n",
        "  raw = file1.read()\n",
        "with open('волки2итал.txt', 'r', encoding = 'utf-8') as file2:\n",
        "  raw2 = file2.read()\n",
        "a = []\n",
        "b = []\n",
        "c = []\n",
        "sents = [s.text for s in sentenize(raw)]\n",
        "print(f\"в русском тексте {len(sents)} предложения\")\n",
        "sents2 = [s.text for s in sentenize(raw2)]\n",
        "print(f\"в итальянском тексте {len(sents2)} предложений\")\n",
        "tokens = [t.text for t in tokenize(raw)]\n",
        "print(f\"в русском тексте {len(tokens)} слов\")\n",
        "tokens2 = [t.text for t in tokenize(raw2)]\n",
        "print(f\"в итальянском тексте {len(tokens2)} слов\")\n",
        "\n",
        "for n in sents:\n",
        "  a.append(len(n.split()))\n",
        "print(f\"среднее кол слов в предложении в рус языке {round(sum(a)/len(a),2)} %\")\n",
        "\n",
        "for n in sents2:\n",
        "  b.append(len(n.split()))\n",
        "print(f\"среднее кол слов в предложении в ит языке {round(sum(b)/len(b),2)} %\")\n",
        "\n",
        "for m in tokens:\n",
        "  if m not in c:\n",
        "    c.append(m)\n",
        "print(f\"лекс разнообразие в рус языке {round(len(c)/len(tokens)*100, 2)} %\")\n",
        "\n",
        "for m in tokens2:\n",
        "  if m not in c:\n",
        "    c.append(m)\n",
        "print(f\"лекс разнообразие в ит языке {round(len(c)/len(tokens2)*100,2)} %\")"
      ],
      "metadata": {
        "colab": {
          "base_uri": "https://localhost:8080/"
        },
        "id": "OR0R9Yo8tIJh",
        "outputId": "721cff2c-45bc-496b-edd5-8f49a838173b"
      },
      "execution_count": 27,
      "outputs": [
        {
          "output_type": "stream",
          "name": "stdout",
          "text": [
            "в русском тексте 20 предложения\n",
            "в итальянском тексте 20 предложений\n",
            "в русском тексте 187 слов\n",
            "в итальянском тексте 233 слов\n",
            "среднее кол слов в предложении в рус языке 7.55 %\n",
            "среднее кол слов в предложении в ит языке 9.75 %\n",
            "лекс разнообразие в рус языке 57.75 %\n",
            "лекс разнообразие в ит языке 94.85 %\n"
          ]
        }
      ]
    },
    {
      "cell_type": "markdown",
      "source": [
        "Задача 5 (3 балла).\n",
        "\n",
        "Посчитайте медианную длину предложения для ваших текстов (медиана - это если взять все длины всех ваших предложений, упорядочить их от маленького к большому и выбрать то число, которое оказалось посередине, а если чисел четное количество, то взять среднее арифметическое двух чисел посередине. Например, если у вас пять предложений длинами 1, 2, 6, 7, 8, то медиана - 6, а если шесть предложений длинами 1, 1, 7, 9, 10, 11, то медиана - (7 + 9) / 2 = 8). Возьмите любые два предложения (одно русское и второе на другом языке) и постройте для них деревья зависимостей. Изучите связи зависимостей (deprel) и вершины: согласны ли вы с разбором?"
      ],
      "metadata": {
        "id": "_CKlbT2qsiJ7"
      }
    },
    {
      "cell_type": "code",
      "source": [
        "from razdel import sentenize\n",
        "from razdel import tokenize\n",
        "import statistics\n",
        "\n",
        "with open('волки1.txt') as file:\n",
        "  raw = file.read()\n",
        "with open('волки2итал.txt') as file:\n",
        "  raw2 = file.read()\n",
        "a = []\n",
        "b = []\n",
        "sents = [s.text for s in sentenize(raw)]\n",
        "sents2 = [s.text for s in sentenize(raw2)]\n",
        "for i in sents:\n",
        "  a.append(len(i.split()))\n",
        "a = sorted(a)\n",
        "\n",
        "for i in sents2:\n",
        "  b.append(len(i.split()))\n",
        "b = sorted(b)\n",
        "\n",
        "print(statistics.median(a))\n",
        "print(statistics.median(b))"
      ],
      "metadata": {
        "colab": {
          "base_uri": "https://localhost:8080/"
        },
        "id": "hQyoNDPxslbA",
        "outputId": "b191df12-0c1a-4a27-c4ca-2a1022ff76a7"
      },
      "execution_count": 28,
      "outputs": [
        {
          "output_type": "stream",
          "name": "stdout",
          "text": [
            "5.0\n",
            "8.0\n"
          ]
        }
      ]
    }
  ]
}